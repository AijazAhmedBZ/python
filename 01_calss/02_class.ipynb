{
 "cells": [
  {
   "cell_type": "markdown",
   "metadata": {},
   "source": [
    "# String Data Type in Python"
   ]
  },
  {
   "cell_type": "code",
   "execution_count": 4,
   "metadata": {},
   "outputs": [
    {
     "name": "stdout",
     "output_type": "stream",
     "text": [
      "PIAIC STUDENT CARD\n",
      "Student Name: Aijaz Ahmed's\n",
      "Father Name: Malik Fateh Muhammad\n",
      "Education: CGMA\n",
      "Age: 44\n"
     ]
    }
   ],
   "source": [
    "# Boundries\n",
    "# 'string text', \"string text\", '''string text''', \"\"\"string text\"\"\"\n",
    "# convert any speacial character into simple charater, place \\ before speacial character\n",
    "\n",
    "name : str = 'Aijaz Ahmed\\'s'\n",
    "fname : str = \"Malik Fateh Muhammad\"\n",
    "education : str = \"CGMA\"\n",
    "age : int = 44\n",
    "\n",
    "card : str = \"PIAIC STUDENT CARD\\nStudent Name: \" + name + \"\\nFather Name: \" + fname + \"\\nEducation: \" + education + \"\\nAge: \" + str(age)\n",
    "\n",
    "print(card)"
   ]
  }
 ],
 "metadata": {
  "kernelspec": {
   "display_name": "python12",
   "language": "python",
   "name": "python3"
  },
  "language_info": {
   "codemirror_mode": {
    "name": "ipython",
    "version": 3
   },
   "file_extension": ".py",
   "mimetype": "text/x-python",
   "name": "python",
   "nbconvert_exporter": "python",
   "pygments_lexer": "ipython3",
   "version": "3.12.0"
  }
 },
 "nbformat": 4,
 "nbformat_minor": 2
}
