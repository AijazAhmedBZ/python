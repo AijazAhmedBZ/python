{
 "cells": [
  {
   "cell_type": "markdown",
   "metadata": {},
   "source": [
    "# String Data Type in Python"
   ]
  },
  {
   "cell_type": "code",
   "execution_count": 1,
   "metadata": {},
   "outputs": [
    {
     "name": "stdout",
     "output_type": "stream",
     "text": [
      "PIAIC STUDENT CARD\n",
      "Student Name: Aijaz Ahmed's\n",
      "Father Name: Malik Fateh Muhammad\n",
      "Education: CGMA\n",
      "Age: 44\n"
     ]
    }
   ],
   "source": [
    "# Boundries\n",
    "# 'string text', \"string text\", '''string text''', \"\"\"string text\"\"\"\n",
    "# convert any speacial character into simple charater, place \\ before speacial character\n",
    "\n",
    "name : str = 'Aijaz Ahmed\\'s'\n",
    "fname : str = \"Malik Fateh Muhammad\"\n",
    "education : str = \"CGMA\"\n",
    "age : int = 44\n",
    "\n",
    "card : str = \"PIAIC STUDENT CARD\\nStudent Name: \" + name + \"\\nFather Name: \" + fname + \"\\nEducation: \" + education + \"\\nAge: \" + str(age)\n",
    "\n",
    "print(card)"
   ]
  },
  {
   "cell_type": "markdown",
   "metadata": {},
   "source": [
    "# \"\\\\\" Line Continue"
   ]
  },
  {
   "cell_type": "markdown",
   "metadata": {},
   "source": [
    "## Define Multiline String \"\"\"   \"\"\"   '''   '''"
   ]
  },
  {
   "cell_type": "markdown",
   "metadata": {},
   "source": [
    "# F-String Python, (very powerfull feature)"
   ]
  },
  {
   "cell_type": "code",
   "execution_count": 2,
   "metadata": {},
   "outputs": [
    {
     "name": "stdout",
     "output_type": "stream",
     "text": [
      "\n",
      "PIAIC Student Card\n",
      "Student Name : Aijaz Ahmed\n",
      "Father Name : Malik Fateh Muhammad\n",
      "Education : CGMA\n",
      "Age : 44\n",
      "Daily Income : 2500000\n",
      "\n"
     ]
    }
   ],
   "source": [
    "name : str = 'Aijaz Ahmed'\n",
    "fname : str = \"Malik Fateh Muhammad\"\n",
    "education : str = \"CGMA\"\n",
    "age : int = 44\n",
    "\n",
    "card : str = f\"\"\"\n",
    "PIAIC Student Card\n",
    "Student Name : {name}\n",
    "Father Name : {fname}\n",
    "Education : {education}\n",
    "Age : {age}\n",
    "Daily Income : {10000*250}\n",
    "\"\"\"\n",
    "\n",
    "print(card)"
   ]
  },
  {
   "cell_type": "markdown",
   "metadata": {},
   "source": [
    "F-String and Jinja Style"
   ]
  },
  {
   "cell_type": "code",
   "execution_count": 3,
   "metadata": {},
   "outputs": [
    {
     "data": {
      "text/plain": [
       "'\\nStudent Name {{name}}\\n'"
      ]
     },
     "execution_count": 3,
     "metadata": {},
     "output_type": "execute_result"
    }
   ],
   "source": [
    "# Jinja\n",
    "\"\"\"\n",
    "Student Name {{name}}\n",
    "\"\"\""
   ]
  },
  {
   "cell_type": "code",
   "execution_count": 4,
   "metadata": {},
   "outputs": [
    {
     "name": "stdout",
     "output_type": "stream",
     "text": [
      "\n",
      "PIAIC Student Card\n",
      "Student Name : Aijaz Ahmed\n",
      "Father Name : Malik Fateh Muhammad\n",
      "Education : CGMA\n",
      "Age : 44\n",
      "\n"
     ]
    }
   ],
   "source": [
    "# Old way to declare variables\n",
    "\n",
    "name : str = 'Aijaz Ahmed'\n",
    "fname : str = \"Malik Fateh Muhammad\"\n",
    "education : str = \"CGMA\"\n",
    "age : int = 44\n",
    "\n",
    "card : str = f\"\"\"\n",
    "PIAIC Student Card\n",
    "Student Name : %s\n",
    "Father Name : %s\n",
    "Education : %s\n",
    "Age : %d\n",
    "\"\"\" % (name,fname,education,age)\n",
    "\n",
    "print(card)"
   ]
  },
  {
   "cell_type": "code",
   "execution_count": 5,
   "metadata": {},
   "outputs": [
    {
     "data": {
      "text/plain": [
       "['capitalize',\n",
       " 'casefold',\n",
       " 'center',\n",
       " 'count',\n",
       " 'encode',\n",
       " 'endswith',\n",
       " 'expandtabs',\n",
       " 'find',\n",
       " 'format',\n",
       " 'format_map',\n",
       " 'index',\n",
       " 'isalnum',\n",
       " 'isalpha',\n",
       " 'isascii',\n",
       " 'isdecimal',\n",
       " 'isdigit',\n",
       " 'isidentifier',\n",
       " 'islower',\n",
       " 'isnumeric',\n",
       " 'isprintable',\n",
       " 'isspace',\n",
       " 'istitle',\n",
       " 'isupper',\n",
       " 'join',\n",
       " 'ljust',\n",
       " 'lower',\n",
       " 'lstrip',\n",
       " 'maketrans',\n",
       " 'partition',\n",
       " 'removeprefix',\n",
       " 'removesuffix',\n",
       " 'replace',\n",
       " 'rfind',\n",
       " 'rindex',\n",
       " 'rjust',\n",
       " 'rpartition',\n",
       " 'rsplit',\n",
       " 'rstrip',\n",
       " 'split',\n",
       " 'splitlines',\n",
       " 'startswith',\n",
       " 'strip',\n",
       " 'swapcase',\n",
       " 'title',\n",
       " 'translate',\n",
       " 'upper',\n",
       " 'zfill']"
      ]
     },
     "execution_count": 5,
     "metadata": {},
     "output_type": "execute_result"
    }
   ],
   "source": [
    "[i for i in dir(str) if \"__\" not in i]"
   ]
  },
  {
   "cell_type": "code",
   "execution_count": 6,
   "metadata": {},
   "outputs": [
    {
     "data": {
      "text/plain": [
       "'pakistan value  a = 7 and value b = 8'"
      ]
     },
     "execution_count": 6,
     "metadata": {},
     "output_type": "execute_result"
    }
   ],
   "source": [
    "a = 7\n",
    "b = 8\n",
    "# {} Place holder\n",
    "\n",
    "\"pakistan value  a = {} and value b = {}\".format(a,b)\n"
   ]
  },
  {
   "cell_type": "code",
   "execution_count": 7,
   "metadata": {},
   "outputs": [
    {
     "name": "stdout",
     "output_type": "stream",
     "text": [
      "\n",
      "PIAIC Student Card\n",
      "Student Name : Aijaz Ahmed's\n",
      "Father Name : Malik Fateh Muhammad\n",
      "Education : CGMA\n",
      "Age : 44\n",
      "\n"
     ]
    }
   ],
   "source": [
    "name : str = 'Aijaz Ahmed\\'s'\n",
    "fname : str = \"Malik Fateh Muhammad\"\n",
    "education : str = \"CGMA\"\n",
    "age : int = 44\n",
    "\n",
    "card : str = \"\"\"\n",
    "PIAIC Student Card\n",
    "Student Name : {0}\n",
    "Father Name : {1}\n",
    "Education : {2}\n",
    "Age : {3}\n",
    "\"\"\".format(name,fname,education,age)\n",
    "\n",
    "print(card)"
   ]
  },
  {
   "cell_type": "code",
   "execution_count": 8,
   "metadata": {},
   "outputs": [
    {
     "name": "stdout",
     "output_type": "stream",
     "text": [
      "\n",
      "PIAIC Student Card\n",
      "Student Name : Aijaz Ahmed's\n",
      "Father Name : Malik Fateh Muhammad\n",
      "Education : CGMA\n",
      "Age : 44\n",
      "\n"
     ]
    }
   ],
   "source": [
    "# assigning index number in place holder\n",
    "\n",
    "name : str = 'Aijaz Ahmed\\'s'\n",
    "fname : str = \"Malik Fateh Muhammad\"\n",
    "education : str = \"CGMA\"\n",
    "age : int = 44\n",
    "\n",
    "card : str = \"\"\"\n",
    "PIAIC Student Card\n",
    "Student Name : {0}\n",
    "Father Name : {1}\n",
    "Education : {2}\n",
    "Age : {3}\n",
    "\"\"\".format(name,fname,education,age)\n",
    "\n",
    "print(card)"
   ]
  },
  {
   "cell_type": "code",
   "execution_count": 9,
   "metadata": {},
   "outputs": [
    {
     "name": "stdout",
     "output_type": "stream",
     "text": [
      "Aijaz ahmed\n",
      "aijaz ahmed\n",
      "Aijaz Ahmed\n"
     ]
    }
   ],
   "source": [
    "name : str = \"Aijaz Ahmed\"\n",
    "\n",
    "print(name.capitalize())\n",
    "print(name.casefold())\n",
    "print(name.format())"
   ]
  },
  {
   "cell_type": "code",
   "execution_count": 10,
   "metadata": {},
   "outputs": [
    {
     "name": "stdout",
     "output_type": "stream",
     "text": [
      "My name is Aijaz\n",
      "15\n"
     ]
    }
   ],
   "source": [
    "student_code : str = \"\"\"\n",
    "print (\"My name is Aijaz\")\n",
    "a:int = 7\n",
    "b:int = 8\n",
    "print (a+b)\n",
    "\"\"\"\n",
    "\n",
    "exec(student_code)"
   ]
  },
  {
   "cell_type": "markdown",
   "metadata": {},
   "source": [
    "# Explor String Methods and Attributes\n",
    "\n",
    "pre defined global function\n",
    "\n",
    "* print\n",
    "* type\n",
    "* id\n",
    "* dir\n",
    "* len\n"
   ]
  },
  {
   "cell_type": "code",
   "execution_count": 11,
   "metadata": {},
   "outputs": [
    {
     "name": "stdout",
     "output_type": "stream",
     "text": [
      "['capitalize', 'casefold', 'center', 'count', 'encode', 'endswith', 'expandtabs', 'find', 'format', 'format_map', 'index', 'isalnum', 'isalpha', 'isascii', 'isdecimal', 'isdigit', 'isidentifier', 'islower', 'isnumeric', 'isprintable', 'isspace', 'istitle', 'isupper', 'join', 'ljust', 'lower', 'lstrip', 'maketrans', 'partition', 'removeprefix', 'removesuffix', 'replace', 'rfind', 'rindex', 'rjust', 'rpartition', 'rsplit', 'rstrip', 'split', 'splitlines', 'startswith', 'strip', 'swapcase', 'title', 'translate', 'upper', 'zfill']\n",
      "47\n"
     ]
    }
   ],
   "source": [
    "a: list[str]=[i for i in dir(str) if \"__\" not in i]\n",
    "\n",
    "print(a)\n",
    "\n",
    "print(len(a))"
   ]
  },
  {
   "cell_type": "code",
   "execution_count": 12,
   "metadata": {},
   "outputs": [
    {
     "name": "stdout",
     "output_type": "stream",
     "text": [
      "aiJaz ahMed\n",
      "Aijaz ahmed\n",
      "aijaz ahmed\n",
      "AIJAZ AHMED\n",
      "aijaz ahmed\n",
      "Aijaz Ahmed\n"
     ]
    }
   ],
   "source": [
    "name : str = \"aiJaz ahMed\"\n",
    "\n",
    "print(name)\n",
    "print(name.capitalize())\n",
    "print(name.casefold())\n",
    "print(name.upper())\n",
    "print(name.lower())\n",
    "print(name.title())"
   ]
  },
  {
   "cell_type": "code",
   "execution_count": 13,
   "metadata": {},
   "outputs": [
    {
     "data": {
      "text/plain": [
       "'     Aijaz Ahmed     '"
      ]
     },
     "metadata": {},
     "output_type": "display_data"
    },
    {
     "data": {
      "text/plain": [
       "'Aijaz Ahmed     '"
      ]
     },
     "metadata": {},
     "output_type": "display_data"
    },
    {
     "data": {
      "text/plain": [
       "'     Aijaz Ahmed'"
      ]
     },
     "metadata": {},
     "output_type": "display_data"
    },
    {
     "data": {
      "text/plain": [
       "'Aijaz Ahmed'"
      ]
     },
     "metadata": {},
     "output_type": "display_data"
    }
   ],
   "source": [
    "name : str = \"     Aijaz Ahmed     \"\n",
    "\n",
    "display(name)\n",
    "display(name.lstrip())\n",
    "display(name.rstrip())\n",
    "display(name.strip())"
   ]
  },
  {
   "cell_type": "markdown",
   "metadata": {},
   "source": [
    "# Using regix"
   ]
  },
  {
   "cell_type": "code",
   "execution_count": 14,
   "metadata": {},
   "outputs": [
    {
     "data": {
      "text/plain": [
       "'     Aijaz     Ahmed     '"
      ]
     },
     "metadata": {},
     "output_type": "display_data"
    },
    {
     "data": {
      "text/plain": [
       "' Aijaz Ahmed '"
      ]
     },
     "metadata": {},
     "output_type": "display_data"
    }
   ],
   "source": [
    "import re\n",
    "\n",
    "name : str = \"     Aijaz     Ahmed     \"\n",
    "\n",
    "display(name)\n",
    "\n",
    "name1 : str = re.sub(' {2,100}',' ',name)\n",
    "display(name1)"
   ]
  },
  {
   "cell_type": "code",
   "execution_count": 15,
   "metadata": {},
   "outputs": [
    {
     "data": {
      "text/plain": [
       "'AiJaz AhMed'"
      ]
     },
     "metadata": {},
     "output_type": "display_data"
    },
    {
     "data": {
      "text/plain": [
       "'Hello, Aijaz Ahmed!'"
      ]
     },
     "metadata": {},
     "output_type": "display_data"
    }
   ],
   "source": [
    "first_name : str = \"AiJaz\"\n",
    "last_name : str = \"AhMed\"\n",
    "full_name : str = f\"{first_name} {last_name}\"\n",
    "message : str = f\"Hello, {full_name.title()}!\"\n",
    "display(full_name)\n",
    "display(message)"
   ]
  },
  {
   "cell_type": "code",
   "execution_count": 16,
   "metadata": {},
   "outputs": [
    {
     "name": "stdout",
     "output_type": "stream",
     "text": [
      "Name Aijaz Ahmed\n",
      "Name:\t\t Aijaz Ahmed\n",
      "Name:\n",
      " Aijaz Ahmed\n"
     ]
    }
   ],
   "source": [
    "# Special Meaning wide space\n",
    "\n",
    "print(\"Name:\\b Aijaz Ahmed\")\n",
    "print(\"Name:\\t\\t Aijaz Ahmed\")\n",
    "print(\"Name:\\n Aijaz Ahmed\")"
   ]
  },
  {
   "cell_type": "code",
   "execution_count": 17,
   "metadata": {},
   "outputs": [
    {
     "data": {
      "text/plain": [
       "'nostarch.com'"
      ]
     },
     "execution_count": 17,
     "metadata": {},
     "output_type": "execute_result"
    }
   ],
   "source": [
    "# Prefix and Suffix\n",
    "\n",
    "nostarch_url : str = \"https://nostarch.com\"\n",
    "nostarch_url.removeprefix(\"https://\")\n"
   ]
  }
 ],
 "metadata": {
  "kernelspec": {
   "display_name": "python12",
   "language": "python",
   "name": "python3"
  },
  "language_info": {
   "codemirror_mode": {
    "name": "ipython",
    "version": 3
   },
   "file_extension": ".py",
   "mimetype": "text/x-python",
   "name": "python",
   "nbconvert_exporter": "python",
   "pygments_lexer": "ipython3",
   "version": "3.12.0"
  }
 },
 "nbformat": 4,
 "nbformat_minor": 2
}
