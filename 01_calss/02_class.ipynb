{
 "cells": [
  {
   "cell_type": "markdown",
   "metadata": {},
   "source": [
    "# String Data Type in Python"
   ]
  },
  {
   "cell_type": "code",
   "execution_count": 10,
   "metadata": {},
   "outputs": [
    {
     "name": "stdout",
     "output_type": "stream",
     "text": [
      "PIAIC STUDENT CARD\n",
      "Student Name: Aijaz Ahmed's\n",
      "Father Name: Malik Fateh Muhammad\n",
      "Education: CGMA\n",
      "Age: 44\n"
     ]
    }
   ],
   "source": [
    "# Boundries\n",
    "# 'string text', \"string text\", '''string text''', \"\"\"string text\"\"\"\n",
    "# convert any speacial character into simple charater, place \\ before speacial character\n",
    "\n",
    "name : str = 'Aijaz Ahmed\\'s'\n",
    "fname : str = \"Malik Fateh Muhammad\"\n",
    "education : str = \"CGMA\"\n",
    "age : int = 44\n",
    "\n",
    "card : str = \"PIAIC STUDENT CARD\\nStudent Name: \" + name + \"\\nFather Name: \" + fname + \"\\nEducation: \" + education + \"\\nAge: \" + str(age)\n",
    "\n",
    "print(card)"
   ]
  },
  {
   "cell_type": "markdown",
   "metadata": {},
   "source": [
    "# \"\\\\\" Line Continue"
   ]
  },
  {
   "cell_type": "markdown",
   "metadata": {},
   "source": [
    "## Define Multiline String \"\"\"   \"\"\"   '''   '''"
   ]
  },
  {
   "cell_type": "code",
   "execution_count": 12,
   "metadata": {},
   "outputs": [
    {
     "name": "stdout",
     "output_type": "stream",
     "text": [
      "\n",
      "PIAIC Student Card\n",
      "Student Name : Aijaz Ahmed's\n",
      "Father Name : Malik Fateh Muhammad\n",
      "Education : CGMA\n",
      "Age : 44\n",
      "\n"
     ]
    }
   ],
   "source": [
    "name : str = 'Aijaz Ahmed\\'s'\n",
    "fname : str = \"Malik Fateh Muhammad\"\n",
    "education : str = \"CGMA\"\n",
    "age : int = 44\n",
    "\n",
    "card : str = f\"\"\"\n",
    "PIAIC Student Card\n",
    "Student Name : {name}\n",
    "Father Name : {fname}\n",
    "Education : {education}\n",
    "Age : {age}\n",
    "\"\"\"\n",
    "\n",
    "print(card)"
   ]
  }
 ],
 "metadata": {
  "kernelspec": {
   "display_name": "python12",
   "language": "python",
   "name": "python3"
  },
  "language_info": {
   "codemirror_mode": {
    "name": "ipython",
    "version": 3
   },
   "file_extension": ".py",
   "mimetype": "text/x-python",
   "name": "python",
   "nbconvert_exporter": "python",
   "pygments_lexer": "ipython3",
   "version": "3.12.0"
  }
 },
 "nbformat": 4,
 "nbformat_minor": 2
}
