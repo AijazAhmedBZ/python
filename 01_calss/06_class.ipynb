{
 "cells": [
  {
   "cell_type": "markdown",
   "metadata": {},
   "source": [
    "# If-else-elif\n",
    "```\n",
    "if logic:\n",
    "    True_block\n",
    "else:\n",
    "    False_block\n",
    "```\n",
    "## comprehensive if-else\n",
    "True_block if logic else False_block\n",
    "* if\n",
    "* if-else\n",
    "* if-elif-else"
   ]
  }
 ],
 "metadata": {
  "language_info": {
   "name": "python"
  }
 },
 "nbformat": 4,
 "nbformat_minor": 2
}
