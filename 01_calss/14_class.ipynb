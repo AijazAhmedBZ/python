{
 "cells": [
  {
   "cell_type": "markdown",
   "metadata": {},
   "source": [
    "## Method Overloading"
   ]
  },
  {
   "cell_type": "code",
   "execution_count": null,
   "metadata": {},
   "outputs": [],
   "source": [
    "\n",
    "from typing import Union, overload\n",
    "\n",
    "class Adder:\n",
    "    @overload\n",
    "    def add(self, x: int, y: int) -> int:\n",
    "        ...\n",
    "        \n",
    "    @overload\n",
    "    def add(self, x: float, y: float) -> float:\n",
    "        ...\n",
    "        \n",
    "    @overload\n",
    "    def add(self, x: str, y: str) -> str:\n",
    "        ...\n",
    "        \n",
    "    \n",
    "    def add(self, x: Union[int, float, str], y: Union[int, float, str]) -> Union[int, float, str]:\n",
    "        if isinstance(x, int) and isinstance(y, int):\n",
    "            return x + y\n",
    "        elif isinstance(x, float) and isinstance(y, float):\n",
    "            return x + y\n",
    "        elif isinstance(x, str) and isinstance(y, str):\n",
    "            return x + y\n",
    "        else:\n",
    "            raise TypeError(\"Invalid argument types!\")\n",
    "\n",
    "# Usage examples\n",
    "adder = Adder()\n",
    "result1 = adder.add(1, 2)  # Should return 3\n",
    "result2 = adder.add(1.5, 2.5)  # Should return 4.0\n",
    "result3 = adder.add(\"Hello, \", \"world!\")  # Should return \"Hello, world!\"\n",
    "\n",
    "print(result1)\n",
    "print(result2)\n",
    "print(result3)\n",
    "\n",
    "# Overridding & polymorphism\n"
   ]
  },
  {
   "cell_type": "code",
   "execution_count": null,
   "metadata": {},
   "outputs": [],
   "source": [
    "add([1,2,3], [1,2,4])"
   ]
  },
  {
   "cell_type": "markdown",
   "metadata": {},
   "source": [
    "## Function Overloading"
   ]
  },
  {
   "cell_type": "code",
   "execution_count": null,
   "metadata": {},
   "outputs": [],
   "source": [
    "from typing import Union, overload\n",
    "\n",
    "@overload\n",
    "def add(x: int, y: int) -> int:\n",
    "    ...\n",
    "\n",
    "@overload\n",
    "def add(x: float, y: float) -> float:\n",
    "    ...\n",
    "\n",
    "@overload\n",
    "def add(x: str, y: str) -> str:\n",
    "    ...\n",
    "\n",
    "def add(x: Union[int, float, str], y: Union[int, float, str]) -> Union[int, float, str]:\n",
    "    if isinstance(x, int) and isinstance(y, int):\n",
    "        return x + y\n",
    "    elif isinstance(x, float) and isinstance(y, float):\n",
    "        return x + y\n",
    "    elif isinstance(x, str) and isinstance(y, str):\n",
    "        return x + y\n",
    "    else:\n",
    "        raise TypeError(\"Invalid argument types!\")\n",
    "\n",
    "# Usage examples\n",
    "result1 = add(1, 2)  # Should return 3\n",
    "result2 = add(1.5, 2.5)  # Should return 4.0\n",
    "result3 = add(\"Hello, \", \"world!\")  # Should return \"Hello, world!\"\n",
    "\n",
    "print(result1)\n",
    "print(result2)\n",
    "print(result3)"
   ]
  },
  {
   "cell_type": "markdown",
   "metadata": {},
   "source": [
    "## Multiple Inheritance"
   ]
  },
  {
   "cell_type": "code",
   "execution_count": null,
   "metadata": {},
   "outputs": [],
   "source": [
    "class Mother:\n",
    "    def __init__(self,name:str) -> None:\n",
    "        self.name : str = name\n",
    "        self.eye_color : str = \"blue\"\n",
    "    \n",
    "    def speaking(self, words : str )->str:\n",
    "        return f\"Mother Speaking function: {words}\"\n",
    "\n",
    "class Father:\n",
    "    def __init__(self, name:str)->None:\n",
    "        self.name : str = name\n",
    "        self.height : str = \"6 Feet\"\n",
    "\n",
    "    def speaking(self, words : str )->str:\n",
    "        return f\"Father Speaking function: {words}\"\n",
    "\n",
    "class Child(Mother, Father):\n",
    "    def __init__(self, mother_name : str, father_name : str , child_name: str)->None:\n",
    "        Mother.__init__(self, mother_name)\n",
    "        Father.__init__(self, father_name)\n",
    "        self.child_name : str = child_name\n",
    "\n",
    "qasim : Child = Child(\"Naseem Bano\", \"Muhammad Aslam\",\"Muhammad Qasim\")\n",
    "\n",
    "print(f\"object height {qasim.height}\")\n",
    "print(f\"object eye color {qasim.eye_color}\")\n",
    "print(qasim.speaking(\"Pakistan zinda bad\"))"
   ]
  },
  {
   "cell_type": "code",
   "execution_count": null,
   "metadata": {},
   "outputs": [],
   "source": [
    "[i for i in dir(qasim) if \"__\" not in i]"
   ]
  },
  {
   "cell_type": "code",
   "execution_count": null,
   "metadata": {},
   "outputs": [],
   "source": [
    "class Mother:\n",
    "    def __init__(self,name:str) -> None:\n",
    "        self.name : str = name\n",
    "        self.eye_color : str = \"blue\"\n",
    "    \n",
    "    def speaking(self, words : str )->str:\n",
    "        return f\"Mother Speaking function: {words}\"\n",
    "\n",
    "class Father:\n",
    "    def __init__(self, name:str)->None:\n",
    "        self.name : str = name\n",
    "        self.height : str = \"6 Feet\"\n",
    "\n",
    "    def speaking(self, words : str )->str:\n",
    "        return f\"Father Speaking function: {words}\"\n",
    "\n",
    "class Child(Father, Mother):\n",
    "    def __init__(self, mother_name : str, father_name : str , child_name: str)->None:\n",
    "        Mother.__init__(self, mother_name)\n",
    "        Father.__init__(self, father_name)\n",
    "        self.child_name : str = child_name\n",
    "\n",
    "qasim : Child = Child(\"Naseem Bano\", \"Muhammad Aslam\",\"Muhammad Qasim\")\n",
    "\n",
    "print(f\"object height {qasim.height}\")\n",
    "print(f\"object eye color {qasim.eye_color}\")\n",
    "print(qasim.speaking(\"Pakistan zinda bad\"))\n",
    "\n",
    "\n",
    "\n",
    "\n",
    "\n",
    "\n"
   ]
  },
  {
   "cell_type": "markdown",
   "metadata": {},
   "source": [
    "## Overridding"
   ]
  },
  {
   "cell_type": "code",
   "execution_count": null,
   "metadata": {},
   "outputs": [],
   "source": [
    "class Animal():\n",
    "    def eating(self,food : str )->None: #same method \n",
    "        print(f\"Animal is eating {food}\")\n",
    "\n",
    "\n",
    "class Bird(Animal):\n",
    "    def eating(self, food: str) -> None:\n",
    "        print(f\"Bird is eating {food}\")\n",
    "\n",
    "\n",
    "bird : Bird = Bird()\n",
    "bird.eating(\"bread\")\n",
    "\n",
    "animal : Animal = Animal()\n",
    "animal.eating(\"grass\")\n"
   ]
  },
  {
   "cell_type": "markdown",
   "metadata": {},
   "source": [
    "## Polymorphism"
   ]
  },
  {
   "cell_type": "code",
   "execution_count": null,
   "metadata": {},
   "outputs": [],
   "source": [
    "animal : Animal = Bird()# run time it will decide which object method it will be run\n",
    "animal.eating(\"grass\")"
   ]
  },
  {
   "cell_type": "code",
   "execution_count": null,
   "metadata": {},
   "outputs": [],
   "source": [
    "print(type(animal))"
   ]
  },
  {
   "cell_type": "code",
   "execution_count": null,
   "metadata": {},
   "outputs": [],
   "source": [
    "animal : Animal = Animal()\n",
    "animal.eating(\"grass\")"
   ]
  },
  {
   "cell_type": "markdown",
   "metadata": {},
   "source": [
    "# Static Method and Static variable(class variable)"
   ]
  },
  {
   "cell_type": "code",
   "execution_count": null,
   "metadata": {},
   "outputs": [],
   "source": [
    "class MathOperations:\n",
    "\n",
    "    counter : int = 100\n",
    "    organization : str = \"PIAIC\"\n",
    "\n",
    "    @staticmethod\n",
    "    def add(x: int, y: int) -> int:\n",
    "        \"\"\"Add two numbers.\"\"\"\n",
    "        return x + y\n",
    "\n",
    "    @staticmethod\n",
    "    def multiply(x: int, y: int) -> int:\n",
    "        \"\"\"Multiply two numbers.\"\"\"\n",
    "        return x * y\n",
    "\n",
    "# Using the static methods\n",
    "result_add = MathOperations.add(10, 20)\n",
    "result_multiply = MathOperations.multiply(10, 20)\n",
    "\n",
    "print(\"Addition:\", result_add)\n",
    "print(\"Multiplication:\", result_multiply)\n",
    "\n",
    "print(\"Static variable or Class variable\",MathOperations.organization)\n"
   ]
  },
  {
   "cell_type": "markdown",
   "metadata": {},
   "source": [
    "## everything is an object\n",
    "https://www.codingninjas.com/studio/library/how-everything-in-python-is-an-object"
   ]
  },
  {
   "cell_type": "code",
   "execution_count": 11,
   "metadata": {},
   "outputs": [
    {
     "name": "stdout",
     "output_type": "stream",
     "text": [
      "Human is eating Biryani\n"
     ]
    }
   ],
   "source": [
    "class Human():\n",
    "    def eating(self, food : str)->None:\n",
    "        print(f\"Human is eating {food}\")\n",
    "\n",
    "    \n",
    "obj1 : Human = Human()\n",
    "obj1.eating(\"Biryani\")"
   ]
  },
  {
   "cell_type": "code",
   "execution_count": 12,
   "metadata": {},
   "outputs": [
    {
     "data": {
      "text/plain": [
       "['__class__',\n",
       " '__delattr__',\n",
       " '__dict__',\n",
       " '__dir__',\n",
       " '__doc__',\n",
       " '__eq__',\n",
       " '__format__',\n",
       " '__ge__',\n",
       " '__getattribute__',\n",
       " '__getstate__',\n",
       " '__gt__',\n",
       " '__hash__',\n",
       " '__init__',\n",
       " '__init_subclass__',\n",
       " '__le__',\n",
       " '__lt__',\n",
       " '__module__',\n",
       " '__ne__',\n",
       " '__new__',\n",
       " '__reduce__',\n",
       " '__reduce_ex__',\n",
       " '__repr__',\n",
       " '__setattr__',\n",
       " '__sizeof__',\n",
       " '__str__',\n",
       " '__subclasshook__',\n",
       " '__weakref__',\n",
       " 'eating']"
      ]
     },
     "execution_count": 12,
     "metadata": {},
     "output_type": "execute_result"
    }
   ],
   "source": [
    "dir(obj1)"
   ]
  },
  {
   "cell_type": "code",
   "execution_count": 9,
   "metadata": {},
   "outputs": [
    {
     "data": {
      "text/plain": [
       "['__class__',\n",
       " '__delattr__',\n",
       " '__dir__',\n",
       " '__doc__',\n",
       " '__eq__',\n",
       " '__format__',\n",
       " '__ge__',\n",
       " '__getattribute__',\n",
       " '__getstate__',\n",
       " '__gt__',\n",
       " '__hash__',\n",
       " '__init__',\n",
       " '__init_subclass__',\n",
       " '__le__',\n",
       " '__lt__',\n",
       " '__ne__',\n",
       " '__new__',\n",
       " '__reduce__',\n",
       " '__reduce_ex__',\n",
       " '__repr__',\n",
       " '__setattr__',\n",
       " '__sizeof__',\n",
       " '__str__',\n",
       " '__subclasshook__']"
      ]
     },
     "execution_count": 9,
     "metadata": {},
     "output_type": "execute_result"
    }
   ],
   "source": [
    "dir(object)"
   ]
  },
  {
   "cell_type": "code",
   "execution_count": null,
   "metadata": {},
   "outputs": [],
   "source": [
    "class Human1(object):\n",
    "    def eating(self, food : str)->None:\n",
    "        print(f\"Human is eating {food}\")\n",
    "\n",
    "obj2 : Human1 = Human1()\n",
    "obj2.eating(\"Biryani\")"
   ]
  },
  {
   "cell_type": "code",
   "execution_count": null,
   "metadata": {},
   "outputs": [],
   "source": [
    "dir(obj2)"
   ]
  },
  {
   "cell_type": "markdown",
   "metadata": {},
   "source": [
    "## Callable\n",
    "https://realpython.com/python-callable-instances/"
   ]
  },
  {
   "cell_type": "code",
   "execution_count": 8,
   "metadata": {},
   "outputs": [
    {
     "name": "stdout",
     "output_type": "stream",
     "text": [
      "Human is eating Biryani\n",
      "Human is eating Nihari!\n"
     ]
    }
   ],
   "source": [
    "class Human1(object):\n",
    "    def eating(self, food : str)->None:\n",
    "        print(f\"Human is eating {food}\")\n",
    "\n",
    "    def __call__(self) -> None:\n",
    "        self.eating(\"Nihari!\")\n",
    "\n",
    "obj3 : Human1 = Human1()\n",
    "obj3.eating(\"Biryani\")\n",
    "\n",
    "obj3.__call__()"
   ]
  },
  {
   "cell_type": "code",
   "execution_count": 7,
   "metadata": {},
   "outputs": [
    {
     "data": {
      "text/plain": [
       "<__main__.Human1 at 0x27ff234b260>"
      ]
     },
     "execution_count": 7,
     "metadata": {},
     "output_type": "execute_result"
    }
   ],
   "source": [
    "Human1()"
   ]
  }
 ],
 "metadata": {
  "kernelspec": {
   "display_name": "python12",
   "language": "python",
   "name": "python3"
  },
  "language_info": {
   "codemirror_mode": {
    "name": "ipython",
    "version": 3
   },
   "file_extension": ".py",
   "mimetype": "text/x-python",
   "name": "python",
   "nbconvert_exporter": "python",
   "pygments_lexer": "ipython3",
   "version": "3.12.5"
  },
  "orig_nbformat": 4
 },
 "nbformat": 4,
 "nbformat_minor": 2
}
