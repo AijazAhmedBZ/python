{
 "cells": [
  {
   "cell_type": "code",
   "execution_count": 2,
   "metadata": {},
   "outputs": [
    {
     "name": "stdout",
     "output_type": "stream",
     "text": [
      "logic1\n",
      "logic2\n",
      "2.5\n",
      "1\n",
      "Zerro Division Error!\n",
      "logic4\n",
      "logic5\n"
     ]
    }
   ],
   "source": [
    "print(\"logic1\")\n",
    "print(\"logic2\")\n",
    "\n",
    "l1 : list[int] = [1,2,3]\n",
    "\n",
    "try:\n",
    "    print(5/2)\n",
    "    print(l1[0])\n",
    "    print(xyz) # error\n",
    "except (ZeroDivisionError,IndexError,NameError):\n",
    "    print(\"Zerro Division Error!\")\n",
    "print(\"logic4\")\n",
    "print(\"logic5\")"
   ]
  },
  {
   "cell_type": "code",
   "execution_count": 3,
   "metadata": {},
   "outputs": [
    {
     "name": "stdout",
     "output_type": "stream",
     "text": [
      "logic1\n",
      "logic2\n",
      "2.5\n",
      "1\n",
      "Some thing is wrong!\n",
      "logic4\n",
      "logic5\n"
     ]
    }
   ],
   "source": [
    "print(\"logic1\")\n",
    "print(\"logic2\")\n",
    "\n",
    "l1 : list[int] = [1,2,3]\n",
    "\n",
    "try:\n",
    "    print(5/2)\n",
    "    print(l1[0])# Error\n",
    "    # print(xyz) # error\n",
    "    open(\"aa.txt\")\n",
    "except (ZeroDivisionError):\n",
    "    print(\"Zerro Division Error!\")\n",
    "except IndexError:\n",
    "    print(\"Index Error\")\n",
    "except NameError:\n",
    "    print(\"Name not defined\")\n",
    "except:\n",
    "    print(\"Some thing is wrong!\")\n",
    "\n",
    "\n",
    "print(\"logic4\")\n",
    "print(\"logic5\")"
   ]
  },
  {
   "cell_type": "code",
   "execution_count": null,
   "metadata": {},
   "outputs": [],
   "source": [
    "try:\n",
    "    # print(age)\n",
    "    print(l1[200])\n",
    "except Exception as e:\n",
    "    print(f\"Some thing is wrong!\\n{e}\")"
   ]
  }
 ],
 "metadata": {
  "kernelspec": {
   "display_name": "python12",
   "language": "python",
   "name": "python3"
  },
  "language_info": {
   "codemirror_mode": {
    "name": "ipython",
    "version": 3
   },
   "file_extension": ".py",
   "mimetype": "text/x-python",
   "name": "python",
   "nbconvert_exporter": "python",
   "pygments_lexer": "ipython3",
   "version": "3.12.0"
  }
 },
 "nbformat": 4,
 "nbformat_minor": 2
}
