{
 "cells": [
  {
   "cell_type": "code",
   "execution_count": 2,
   "metadata": {},
   "outputs": [
    {
     "name": "stdout",
     "output_type": "stream",
     "text": [
      "Mr.Aijaz\n",
      "<class 'str'>\n",
      "1847845164464\n"
     ]
    }
   ],
   "source": [
    "name=(\"Mr.Aijaz\")\n",
    "\n",
    "print(name)\n",
    "print(type(name))\n",
    "print(id(name))\n",
    "\n"
   ]
  },
  {
   "cell_type": "code",
   "execution_count": 5,
   "metadata": {},
   "outputs": [
    {
     "name": "stdout",
     "output_type": "stream",
     "text": [
      "[1, 2, 3]\n",
      "<class 'list'>\n",
      "1847845388608\n"
     ]
    }
   ],
   "source": [
    "from typing import List\n",
    "\n",
    "num1: List[str] = [1,2,3]\n",
    "\n",
    "print(num1)\n",
    "print(type(num1))\n",
    "print(id(num1))"
   ]
  },
  {
   "cell_type": "code",
   "execution_count": 6,
   "metadata": {},
   "outputs": [
    {
     "name": "stdout",
     "output_type": "stream",
     "text": [
      "{1, 2, 3}\n",
      "<class 'set'>\n",
      "1847844984576\n"
     ]
    }
   ],
   "source": [
    "from typing import List\n",
    "\n",
    "num1: set[int] = {1,2,3}\n",
    "\n",
    "print(num1)\n",
    "print(type(num1))\n",
    "print(id(num1))"
   ]
  },
  {
   "cell_type": "code",
   "execution_count": null,
   "metadata": {},
   "outputs": [],
   "source": [
    "from typing import List\n",
    "\n",
    "num1: set[int] = {1,2,3}\n",
    "\n",
    "print(num1)\n",
    "print(type(num1))\n",
    "print(id(num1))"
   ]
  },
  {
   "cell_type": "code",
   "execution_count": null,
   "metadata": {},
   "outputs": [],
   "source": [
    "from typing import List\n",
    "\n",
    "num1: set[int] = {1,2,3}\n",
    "\n",
    "print(num1)\n",
    "print(type(num1))\n",
    "print(id(num1))"
   ]
  },
  {
   "cell_type": "code",
   "execution_count": null,
   "metadata": {},
   "outputs": [],
   "source": [
    "a:str = \"Pakistan\"\n",
    "\n",
    "dir(a)\n",
    "\n",
    "print(dir(a))"
   ]
  }
 ],
 "metadata": {
  "kernelspec": {
   "display_name": "base",
   "language": "python",
   "name": "python3"
  },
  "language_info": {
   "codemirror_mode": {
    "name": "ipython",
    "version": 3
   },
   "file_extension": ".py",
   "mimetype": "text/x-python",
   "name": "python",
   "nbconvert_exporter": "python",
   "pygments_lexer": "ipython3",
   "version": "3.11.4"
  },
  "orig_nbformat": 4
 },
 "nbformat": 4,
 "nbformat_minor": 2
}
