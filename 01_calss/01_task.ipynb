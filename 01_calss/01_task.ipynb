{
 "cells": [
  {
   "cell_type": "markdown",
   "metadata": {},
   "source": [
    "# I am so happy to start learning python with static type"
   ]
  },
  {
   "cell_type": "code",
   "execution_count": 1,
   "metadata": {},
   "outputs": [
    {
     "name": "stdout",
     "output_type": "stream",
     "text": [
      "Aoa, Mr. Aijaz\n"
     ]
    }
   ],
   "source": [
    "print(\"Aoa, Mr. Aijaz\")"
   ]
  },
  {
   "cell_type": "code",
   "execution_count": 2,
   "metadata": {},
   "outputs": [
    {
     "name": "stdout",
     "output_type": "stream",
     "text": [
      "Mr.Aijaz\n",
      "<class 'str'>\n",
      "2149687502256\n"
     ]
    }
   ],
   "source": [
    "name=(\"Mr.Aijaz\")\n",
    "\n",
    "print(name)\n",
    "print(type(name))\n",
    "print(id(name))\n"
   ]
  },
  {
   "cell_type": "code",
   "execution_count": 3,
   "metadata": {},
   "outputs": [
    {
     "name": "stdout",
     "output_type": "stream",
     "text": [
      "[1, 2, 3]\n",
      "<class 'list'>\n",
      "2149687291776\n"
     ]
    }
   ],
   "source": [
    "from typing import List\n",
    "\n",
    "num1: List[str] = [1,2,3]\n",
    "\n",
    "print(num1)\n",
    "print(type(num1))\n",
    "print(id(num1))"
   ]
  },
  {
   "cell_type": "code",
   "execution_count": 4,
   "metadata": {},
   "outputs": [
    {
     "name": "stdout",
     "output_type": "stream",
     "text": [
      "{1, 2, 3}\n",
      "<class 'set'>\n",
      "2149687242176\n"
     ]
    }
   ],
   "source": [
    "from typing import List\n",
    "\n",
    "num1: set[int] = {1,2,3}\n",
    "\n",
    "print(num1)\n",
    "print(type(num1))\n",
    "print(id(num1))"
   ]
  },
  {
   "cell_type": "code",
   "execution_count": 5,
   "metadata": {},
   "outputs": [
    {
     "name": "stdout",
     "output_type": "stream",
     "text": [
      "{1, 2, 3}\n",
      "<class 'set'>\n",
      "2149687241952\n"
     ]
    }
   ],
   "source": [
    "from typing import List\n",
    "\n",
    "num1: set[int] = {1,2,3}\n",
    "\n",
    "print(num1)\n",
    "print(type(num1))\n",
    "print(id(num1))"
   ]
  },
  {
   "cell_type": "code",
   "execution_count": 6,
   "metadata": {},
   "outputs": [
    {
     "name": "stdout",
     "output_type": "stream",
     "text": [
      "{1, 2, 3}\n",
      "<class 'set'>\n",
      "2149687241280\n"
     ]
    }
   ],
   "source": [
    "from typing import List\n",
    "\n",
    "num1: set[int] = {1,2,3}\n",
    "\n",
    "print(num1)\n",
    "print(type(num1))\n",
    "print(id(num1))"
   ]
  },
  {
   "cell_type": "code",
   "execution_count": 7,
   "metadata": {},
   "outputs": [
    {
     "name": "stdout",
     "output_type": "stream",
     "text": [
      "['__add__', '__class__', '__contains__', '__delattr__', '__dir__', '__doc__', '__eq__', '__format__', '__ge__', '__getattribute__', '__getitem__', '__getnewargs__', '__getstate__', '__gt__', '__hash__', '__init__', '__init_subclass__', '__iter__', '__le__', '__len__', '__lt__', '__mod__', '__mul__', '__ne__', '__new__', '__reduce__', '__reduce_ex__', '__repr__', '__rmod__', '__rmul__', '__setattr__', '__sizeof__', '__str__', '__subclasshook__', 'capitalize', 'casefold', 'center', 'count', 'encode', 'endswith', 'expandtabs', 'find', 'format', 'format_map', 'index', 'isalnum', 'isalpha', 'isascii', 'isdecimal', 'isdigit', 'isidentifier', 'islower', 'isnumeric', 'isprintable', 'isspace', 'istitle', 'isupper', 'join', 'ljust', 'lower', 'lstrip', 'maketrans', 'partition', 'removeprefix', 'removesuffix', 'replace', 'rfind', 'rindex', 'rjust', 'rpartition', 'rsplit', 'rstrip', 'split', 'splitlines', 'startswith', 'strip', 'swapcase', 'title', 'translate', 'upper', 'zfill']\n"
     ]
    }
   ],
   "source": [
    "a:str = \"Pakistan\"\n",
    "\n",
    "dir(a)\n",
    "\n",
    "print(dir(a))"
   ]
  }
 ],
 "metadata": {
  "kernelspec": {
   "display_name": "base",
   "language": "python",
   "name": "python3"
  },
  "language_info": {
   "codemirror_mode": {
    "name": "ipython",
    "version": 3
   },
   "file_extension": ".py",
   "mimetype": "text/x-python",
   "name": "python",
   "nbconvert_exporter": "python",
   "pygments_lexer": "ipython3",
   "version": "3.11.7"
  },
  "orig_nbformat": 4
 },
 "nbformat": 4,
 "nbformat_minor": 2
}
